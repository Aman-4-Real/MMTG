{
 "cells": [
  {
   "cell_type": "code",
   "execution_count": 1,
   "id": "c0c9e0bf",
   "metadata": {},
   "outputs": [],
   "source": [
    "import pickle\n",
    "import random\n",
    "random.seed(2022)"
   ]
  },
  {
   "cell_type": "code",
   "execution_count": 2,
   "id": "36920675",
   "metadata": {},
   "outputs": [],
   "source": [
    "f = open(\"six_methods_50test.pkl\", \"rb\")\n",
    "res = pickle.load(f)\n",
    "f.close()"
   ]
  },
  {
   "cell_type": "code",
   "execution_count": 4,
   "id": "f665e140",
   "metadata": {},
   "outputs": [
    {
     "data": {
      "text/plain": [
       "dict_keys(['plan', 'wm', 'gpt2', 'iprompt', 'img2poem', 'my'])"
      ]
     },
     "execution_count": 4,
     "metadata": {},
     "output_type": "execute_result"
    }
   ],
   "source": [
    "res.keys()"
   ]
  },
  {
   "cell_type": "markdown",
   "id": "05dcd97f",
   "metadata": {},
   "source": [
    "## for gpt2"
   ]
  },
  {
   "cell_type": "code",
   "execution_count": 7,
   "id": "5190c341",
   "metadata": {},
   "outputs": [],
   "source": [
    "with open(\"../res_eval/baselines/gpt2_samples_tk10_tp07_tm1o1_rpt1o5_ep3.txt\", \"r\") as f:\n",
    "    gpt2_data = f.readlines()\n",
    "gpt2_data = [line.strip() for line in gpt2_data]"
   ]
  },
  {
   "cell_type": "code",
   "execution_count": 10,
   "id": "7bf80d38",
   "metadata": {},
   "outputs": [
    {
     "name": "stdout",
     "output_type": "stream",
     "text": [
      "50 ['就像一起你，我的心中是这样，也许没有点点点点点光在乎，让爱情人间都不会再见了，只能说出现实的时候面前走，为什么想要对我们还是否自己去吗，那些世界却无论很多少年轻易到底，可以后悔过往事如果谁又好久，别把你看得太快乐', '不会让我们的时候，是谁能够说自己的爱情都没有，也许什么样才知道这个人就在一次，只要离开始终于别再见面对，所谓却无法看得伤害怕，还是否可以后悔过去了眼泪水流星光，每夜里留下来到最好，总有些心中已经痛苦续回忆的那么美丽，但曾经感受伤口', '不是一个人的时候，在你我心里有什么都会变成了解续，爱情已经让你走到底还要离开始终点伤口就像那么，如果说出现实也许很远方向前，想念没法把自己只能够再见过，这些话可以后悔才知道我们相遇得太多少次，但是否愿意为何必回忆，却曾经痛苦涩无论']\n"
     ]
    }
   ],
   "source": [
    "random.seed(2022)\n",
    "gpt2_res = []\n",
    "for i in range(0,500,10):\n",
    "    gpt2_res.append(random.sample(gpt2_data[i:i+10], 1)[0])\n",
    "print(len(gpt2_res), gpt2_res[:3])"
   ]
  },
  {
   "cell_type": "markdown",
   "id": "4cd22085",
   "metadata": {},
   "source": [
    "## for my res"
   ]
  },
  {
   "cell_type": "code",
   "execution_count": 13,
   "id": "6d98525a",
   "metadata": {},
   "outputs": [],
   "source": [
    "with open(\"../src_v5_refine/res/lr1e-5_bs96_kl02_tk10_tp07_tm1o1_rpt1o5.txt\", \"r\") as f:\n",
    "    my_data = f.readlines()\n",
    "my_data = [line.strip() for line in my_data]"
   ]
  },
  {
   "cell_type": "code",
   "execution_count": 14,
   "id": "7acdf207",
   "metadata": {},
   "outputs": [
    {
     "name": "stdout",
     "output_type": "stream",
     "text": [
      "50 ['有时我想要放下，可惜不敢去碰，但亦怕失了舵，一起走过的路，没法将爱收藏，谁人都知道天空会高，这是一个好地方，无论如何训练，未够上进，也算得到，在那里面看见，风景', '为你重拾往事，心中有个人，在梦里呼唤，天边云烟，何处寻觅，风吹雨打，无怨叹，一曲长调，不问苍穹，只愿能共婵娟，我的思念', '我不想再看你，也许会是一种伤心，让人沉迷，可能就像那云朵，随风飘远，只要有爱，我们的生活，就算失去，都值得']\n"
     ]
    }
   ],
   "source": [
    "random.seed(2022)\n",
    "my_res = []\n",
    "for i in range(0,500,10):\n",
    "    my_res.append(random.sample(my_data[i:i+10], 1)[0])\n",
    "print(len(my_res), my_res[:3])"
   ]
  },
  {
   "cell_type": "code",
   "execution_count": null,
   "id": "be9ea4ed",
   "metadata": {},
   "outputs": [],
   "source": []
  },
  {
   "cell_type": "code",
   "execution_count": 16,
   "id": "5b4e831c",
   "metadata": {},
   "outputs": [],
   "source": [
    "res['my'] = my_res\n",
    "res['gpt2'] = gpt2_res"
   ]
  },
  {
   "cell_type": "code",
   "execution_count": 17,
   "id": "2656aed5",
   "metadata": {},
   "outputs": [],
   "source": [
    "f = open(\"six_methods_50test_new.pkl\", \"wb\")\n",
    "pickle.dump(res, f)\n",
    "f.close()"
   ]
  },
  {
   "cell_type": "code",
   "execution_count": null,
   "id": "4fd84441",
   "metadata": {},
   "outputs": [],
   "source": []
  },
  {
   "cell_type": "code",
   "execution_count": null,
   "id": "dc18884d",
   "metadata": {},
   "outputs": [],
   "source": []
  }
 ],
 "metadata": {
  "kernelspec": {
   "display_name": "Python 3",
   "language": "python",
   "name": "python3"
  },
  "language_info": {
   "codemirror_mode": {
    "name": "ipython",
    "version": 3
   },
   "file_extension": ".py",
   "mimetype": "text/x-python",
   "name": "python",
   "nbconvert_exporter": "python",
   "pygments_lexer": "ipython3",
   "version": "3.8.8"
  }
 },
 "nbformat": 4,
 "nbformat_minor": 5
}
