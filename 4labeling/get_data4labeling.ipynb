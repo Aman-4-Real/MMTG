{
 "cells": [
  {
   "cell_type": "code",
   "execution_count": 1,
   "id": "a1b14c93",
   "metadata": {},
   "outputs": [],
   "source": [
    "import pickle\n",
    "import random\n",
    "random.seed(2022)"
   ]
  },
  {
   "cell_type": "code",
   "execution_count": 2,
   "id": "810c4e2c",
   "metadata": {},
   "outputs": [],
   "source": [
    "with open(\"../res_eval/baselines/plan_samples.txt\", \"r\") as f:\n",
    "    plan_data = f.readlines()\n",
    "plan_data = [line.strip() for line in plan_data]\n",
    "with open(\"../res_eval/baselines/wm_samples.txt\", \"r\") as f:\n",
    "    wm_data = f.readlines()\n",
    "wm_data = [line.strip() for line in wm_data]\n",
    "with open(\"../res_eval/baselines/gpt2_samples.txt\", \"r\") as f:\n",
    "    gpt2_data = f.readlines()\n",
    "gpt2_data = [line.strip() for line in gpt2_data]\n",
    "with open(\"../res_eval/baselines/iprompt_samples.txt\", \"r\") as f:\n",
    "    iprompt_data = f.readlines()\n",
    "iprompt_data = [line.strip() for line in iprompt_data]\n",
    "with open(\"../res_eval/baselines/iprompt_labels.txt\", \"r\") as f:\n",
    "    iprompt_label = f.readlines()\n",
    "iprompt_label = [line.strip() for line in iprompt_label]\n",
    "with open(\"../res_eval/baselines/img2poem_samples.txt\", \"r\") as f:\n",
    "    img2poem_data = f.readlines()\n",
    "img2poem_data = [line.strip() for line in img2poem_data]\n",
    "with open(\"../src_v4_new_gpt/res/samples_cl_ln.txt\", \"r\") as f:\n",
    "    samples_cl_ln = f.readlines()\n",
    "samples_cl_ln = [line.strip() for line in samples_cl_ln]"
   ]
  },
  {
   "cell_type": "code",
   "execution_count": 3,
   "id": "638832c2",
   "metadata": {},
   "outputs": [
    {
     "data": {
      "text/plain": [
       "(500, 500, 500, 189, 189, 50, 50)"
      ]
     },
     "execution_count": 3,
     "metadata": {},
     "output_type": "execute_result"
    }
   ],
   "source": [
    "len(plan_data), len(wm_data), len(gpt2_data), len(iprompt_data), len(iprompt_label), len(img2poem_data), len(samples_cl_ln)"
   ]
  },
  {
   "cell_type": "code",
   "execution_count": 4,
   "id": "57547eb2",
   "metadata": {},
   "outputs": [
    {
     "name": "stdout",
     "output_type": "stream",
     "text": [
      "50 ['楼上梨花迎晚风，谁能把酒不胜春，遥知屈曲摇青柳，恰似湖山在水中，恨欲望人不去处，千林月落鸟声中，邯郸一枕到平分，一白渊华六白鹇，千间醉点法人真，到晓峰开晓烟中', '舌端声杂百杂碎，佛嫣金丈片云身，和气三和暑气中，青山尽在万山中，万处炉香炉几中，世间诗在一云中，是中方现佛真从，野界空无极目中，寒岩终不道人东，红焰今尝尚有功', '一生双凰台，蓦直镆聃去，老来那得漏无香，深昼琅门浅琐炉，翩翩双凤手成台，僧僮斜立临桥晚雨来，客思无情杨泪中，组章庭下有春来，千残红嫩未逾残片风，寻向桃花趁一来']\n"
     ]
    }
   ],
   "source": [
    "random.seed(2022)\n",
    "plan_res = []\n",
    "for i in range(0,500,10):\n",
    "    plan_res.append(random.sample(plan_data[i:i+10], 1)[0])\n",
    "print(len(plan_res), plan_res[:3])"
   ]
  },
  {
   "cell_type": "code",
   "execution_count": 5,
   "id": "fe10525a",
   "metadata": {},
   "outputs": [
    {
     "name": "stdout",
     "output_type": "stream",
     "text": [
      "50 ['珍珠不解留春色，风吹杨花着人中，雨多多情却烦恼，自应惭与我同同，等闲莫更无樽酒，为君须惜一杯空，欲知迁客也相失，可怜香信有时红，恰似和莺啼成血，今朝来过故园东', '少年不为霜风去，老夫爱与行且共，未应携我一杯酒，留君何须较几重，待侬休更莫相送，万山千里觅吾从，此身若也同庵在，泪洒墓田寄无缝，故乡只有自难得，问谁钞掠索题封', '结空人与世间事，不知我更梦中重，双听猿鹤叫云去，笑今多为说同从，老来莫厌无无处，怕被风吹拾得供，正行已过三十里，亭亭两两担肩缝，一襟便作浑疑却，滴磨瘦骨犹馀封']\n"
     ]
    }
   ],
   "source": [
    "random.seed(2022)\n",
    "wm_res = []\n",
    "for i in range(0,500,10):\n",
    "    wm_res.append(random.sample(wm_data[i:i+10], 1)[0])\n",
    "print(len(wm_res), wm_res[:3])"
   ]
  },
  {
   "cell_type": "code",
   "execution_count": 6,
   "id": "dbb1d382",
   "metadata": {},
   "outputs": [
    {
     "name": "stdout",
     "output_type": "stream",
     "text": [
      "50 ['你是我的心，你的爱情是否还是那么多，你说过我的爱你，你是否还是不会忘记你，我的心里总是一样的，你是我的爱情，你是否也许是你的爱，我们的爱你是否还是那么美丽，你是我的爱你的心，我的心已经是我的', '我的爱情，我是你最后的爱，你是我的爱，我不会再爱你，我的心中有多么多，你说我的爱我，我是否会爱上你，我是你的爱，我的爱你，你是我爱的爱你', '我们的爱情，我们还有你的心，我们的爱情，我们的爱情就是我们的爱情，你说我们的爱情，我们的爱情是我们相遇，你的爱情是我们的，你的心情已经不会变成了，我们的心情的幸福，我们的爱情是我们的']\n"
     ]
    }
   ],
   "source": [
    "random.seed(2022)\n",
    "gpt2_res = []\n",
    "for i in range(0,500,10):\n",
    "    gpt2_res.append(random.sample(gpt2_data[i:i+10], 1)[0])\n",
    "print(len(gpt2_res), gpt2_res[:3])"
   ]
  },
  {
   "cell_type": "code",
   "execution_count": 7,
   "id": "fa7e8558",
   "metadata": {},
   "outputs": [
    {
     "name": "stdout",
     "output_type": "stream",
     "text": [
      "50 ['一壶浊酒浇恨意,而今遗失步无鞋，爱人怒我登墙去,几度轻如落叶飞，纵眼望去长路渺,不经鸿蒙怎堪期，日后慎保怀自任,离别岂能惧相思', '朗月带刀丰肌影,高晖如坠骤凉天，酷暑饮下无佳味,回首离别胜往边，君莫轻欺花姊最,万般愁绪和孤眠，学会珍惜满是爱,情深似海海若连', '笑驾沧州趣,猿猴已出众，罗汉游草地,牧童荡凉风，仙斧劈山过,鸟乐破耳鸣，谷响归禅去,浮云伴月明']\n"
     ]
    }
   ],
   "source": [
    "random.seed(2022)\n",
    "iprompt_res = []\n",
    "idx = [0]\n",
    "for i in range(1,len(iprompt_label)):\n",
    "    if iprompt_label[i] != iprompt_label[i-1]:\n",
    "        idx.append(i)\n",
    "for i in range(len(idx)):\n",
    "    if i < len(idx)-1:\n",
    "        iprompt_res.append(random.sample(iprompt_data[idx[i]:idx[i+1]], 1)[0])\n",
    "    else:\n",
    "        iprompt_res.append(random.sample(iprompt_data[idx[i]:], 1)[0])\n",
    "print(len(iprompt_res), iprompt_res[:3])"
   ]
  },
  {
   "cell_type": "code",
   "execution_count": 8,
   "id": "521493c2",
   "metadata": {},
   "outputs": [
    {
     "data": {
      "text/plain": [
       "['有时在梦中我看到了一个梦，我知道这一天，世界上我不是画家，很多，我不知道如何去感觉它，我感觉它上涨，我想成为一个水母，我见过你，老人被他的名字退化将他的心快乐',\n",
       " '我想成为一个水母，我希望你可以，我想成为一个水母，只是看看，我是辆煤车，等待一段时间，我是辆煤车，带着一个白色的',\n",
       " '喝酒我出生在这个世界，在一个安静的地方，我知道我独自一人，我不知道这是为什么，我知道罕见之前灭绝，这样的紫色兰花在我的花园里，我知道罕见之前灭绝，这样的紫色兰花在我的花园里，我是辆煤车，等待一段时间']"
      ]
     },
     "execution_count": 8,
     "metadata": {},
     "output_type": "execute_result"
    }
   ],
   "source": [
    "img2poem_data[:3]"
   ]
  },
  {
   "cell_type": "code",
   "execution_count": 9,
   "id": "166c682c",
   "metadata": {},
   "outputs": [
    {
     "data": {
      "text/plain": [
       "['我们的歌声在这里，唱出了一片真情和爱德，让人心中充满兴奋与希望，大家齐来欢聚喜悦，国际民族团结起来，共同建设美好明天，把握机遇到你身边，开创新时代精彩世界，珍惜每个党旗帜帜，为祖国献上最光荣的礼物，祝福全体振作力量',\n",
       " '为你巡逻风雨，我的军营是一片绿色海洋，为了祖国保卫家乡安宁，我们在这里建设新中央，为着人民幸福和平，我们立下丰碑筑就美丽城市，为了党旗飘扬，我们奋勇闯天涯，为了共产党胜利，我们创造辉煌灿烂',\n",
       " '我不想再去追，你的爱情是否还在，那些曾经美好回忆，如今已成了过眼云烟，就让它随风飘远吧，别说什么永恒，只要能够拥有一个人，便足以证明自己真正快乐，也许这样会更加容易忘记，但愿时间可以倒流，把所谓幸福都带走']"
      ]
     },
     "execution_count": 9,
     "metadata": {},
     "output_type": "execute_result"
    }
   ],
   "source": [
    "samples_cl_ln[:3]"
   ]
  },
  {
   "cell_type": "code",
   "execution_count": 10,
   "id": "26d18048",
   "metadata": {},
   "outputs": [],
   "source": [
    "res = {'plan': plan_res, 'wm': wm_res, 'gpt2': gpt2_res, 'iprompt': iprompt_res, 'img2poem': img2poem_data, 'my': samples_cl_ln}"
   ]
  },
  {
   "cell_type": "code",
   "execution_count": 11,
   "id": "6e3d8fc2",
   "metadata": {},
   "outputs": [],
   "source": [
    "f = open(\"six_methods_50test.pkl\", \"wb\")\n",
    "pickle.dump(res, f)\n",
    "f.close()"
   ]
  },
  {
   "cell_type": "code",
   "execution_count": null,
   "id": "f144800d",
   "metadata": {},
   "outputs": [],
   "source": []
  },
  {
   "cell_type": "code",
   "execution_count": null,
   "id": "6f73b3c2",
   "metadata": {},
   "outputs": [],
   "source": []
  },
  {
   "cell_type": "code",
   "execution_count": null,
   "id": "4756f173",
   "metadata": {},
   "outputs": [],
   "source": []
  },
  {
   "cell_type": "code",
   "execution_count": null,
   "id": "774ad6b5",
   "metadata": {},
   "outputs": [],
   "source": []
  },
  {
   "cell_type": "code",
   "execution_count": null,
   "id": "bc09f8cf",
   "metadata": {},
   "outputs": [],
   "source": []
  },
  {
   "cell_type": "code",
   "execution_count": null,
   "id": "04df1341",
   "metadata": {},
   "outputs": [],
   "source": []
  }
 ],
 "metadata": {
  "kernelspec": {
   "display_name": "Python 3",
   "language": "python",
   "name": "python3"
  },
  "language_info": {
   "codemirror_mode": {
    "name": "ipython",
    "version": 3
   },
   "file_extension": ".py",
   "mimetype": "text/x-python",
   "name": "python",
   "nbconvert_exporter": "python",
   "pygments_lexer": "ipython3",
   "version": "3.8.8"
  }
 },
 "nbformat": 4,
 "nbformat_minor": 5
}
