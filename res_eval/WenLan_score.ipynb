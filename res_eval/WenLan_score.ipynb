{
 "cells": [
  {
   "cell_type": "code",
   "execution_count": 1,
   "id": "dadc4163",
   "metadata": {},
   "outputs": [],
   "source": [
    "import numpy as np\n",
    "from tqdm import tqdm, trange"
   ]
  },
  {
   "cell_type": "code",
   "execution_count": 2,
   "id": "800694b3",
   "metadata": {},
   "outputs": [],
   "source": [
    "import requests\n",
    "import json\n",
    "def get_img_emb(img_path):\n",
    "    img_url = \"http://120.92.50.21:6175/image_query\"\n",
    "    img = open(img_path, \"rb\")\n",
    "    emb = json.loads(requests.post(img_url, files={\"image\": img}).text)[\"embedding\"]\n",
    "    return emb\n",
    "    \n",
    "def get_text_emb(text):\n",
    "    txt_url = \"http://120.92.50.21:6175/text_query\"\n",
    "    emb = eval(requests.get(txt_url, params={\"text\": text}).text)[\"embedding\"]\n",
    "    return emb"
   ]
  },
  {
   "cell_type": "code",
   "execution_count": 3,
   "id": "6cf794a3",
   "metadata": {},
   "outputs": [
    {
     "data": {
      "text/plain": [
       "0.844627466338625"
      ]
     },
     "execution_count": 3,
     "metadata": {},
     "output_type": "execute_result"
    }
   ],
   "source": [
    "def cosine_similarity(x, y):\n",
    "    num = x.dot(y.T)\n",
    "    denom = np.linalg.norm(x) * np.linalg.norm(y)\n",
    "    return (num / denom).item()\n",
    "a = get_text_emb(\"今天天气真好\")\n",
    "b = get_text_emb(\"今天阳光灿烂\")\n",
    "cosine_similarity(np.array(a), np.array(b))"
   ]
  },
  {
   "cell_type": "code",
   "execution_count": 21,
   "id": "7a15ec69",
   "metadata": {},
   "outputs": [],
   "source": [
    "with open(\"../src_v4_new_gpt/res/samples_wocl_ln_lr1e-5_ep3_all_pos.txt\", \"r\") as f: # samples_wocl_ln_lr1e-5_ep3.txt\n",
    "    data1 = f.readlines()\n",
    "data1 = [item.strip() for item in data1]\n",
    "with open(\"../src_v4_new_gpt/res/labels_cl_50.txt\", \"r\") as f:\n",
    "    label1 = f.readlines()\n",
    "label1 = [item.strip() for item in label1]\n",
    "# with open(\"../src_v4_new_gpt/res/samples_wocl_50.txt\", \"r\") as f:\n",
    "#     data2 = f.readlines()\n",
    "# data2 = [item.strip() for item in data2]\n",
    "# with open(\"../src_v4_new_gpt/res/labels_wocl_50.txt\", \"r\") as f:\n",
    "#     label2 = f.readlines()\n",
    "# label2 = [item.strip() for item in label2]\n",
    "# with open(\"../src_wo_img/res/samples_wo_img_lr1e-5_ep3.txt\", \"r\") as f:\n",
    "#     data3 = f.readlines()\n",
    "# data3 = [item.strip() for item in data3]\n",
    "# with open(\"../src_wo_img/res/labels_wo_img_ep5_50.txt\", \"r\") as f:\n",
    "#     label3 = f.readlines()\n",
    "# label3 = [item.strip() for item in label3]\n",
    "# with open(\"../src_wo_text/res/samples_wo_text_lr1e-5_ep3.txt\", \"r\") as f:\n",
    "#     data4 = f.readlines()\n",
    "# data4 = [item.strip() for item in data4]\n",
    "# with open(\"../src_wo_text/res/labels_wo_text_50.txt\", \"r\") as f:\n",
    "#     label4 = f.readlines()\n",
    "# label4 = [item.strip() for item in label4]\n",
    "\n",
    "\n",
    "# with open(\"baselines/gpt2_samples.txt\", \"r\") as f:\n",
    "#     data5 = f.readlines()\n",
    "# data5 = [item.strip() for item in data5]\n",
    "# with open(\"baselines/labels.txt\", \"r\") as f:\n",
    "#     label5 = f.readlines()\n",
    "# label5 = [item.strip() for item in label5]\n",
    "# with open(\"baselines/plan_samples.txt\", \"r\") as f:\n",
    "#     data6 = f.readlines()\n",
    "# data6 = [item.strip() for item in data6]\n",
    "# with open(\"baselines/wm_samples.txt\", \"r\") as f:\n",
    "#     data7 = f.readlines()\n",
    "# data7 = [item.strip() for item in data7]\n",
    "# with open(\"baselines/iprompt_samples.txt\", \"r\") as f:\n",
    "#     data8 = f.readlines()\n",
    "# data8 = [item.strip() for item in data8]\n",
    "# with open(\"baselines/iprompt_labels.txt\", \"r\") as f:\n",
    "#     label8 = f.readlines()\n",
    "# label8 = [item.strip() for item in label8]\n",
    "# with open(\"baselines/img2poem_samples.txt\", \"r\") as f:\n",
    "#     data9 = f.readlines()\n",
    "# data9 = [item.strip() for item in data9]\n",
    "# with open(\"baselines/img2poem_labels.txt\", \"r\") as f:\n",
    "#     label9 = f.readlines()\n",
    "# label9 = [item.strip() for item in label9]"
   ]
  },
  {
   "cell_type": "code",
   "execution_count": 23,
   "id": "44c42489",
   "metadata": {},
   "outputs": [
    {
     "name": "stderr",
     "output_type": "stream",
     "text": [
      "100%|██████████| 500/500 [00:55<00:00,  8.96it/s]"
     ]
    },
    {
     "name": "stdout",
     "output_type": "stream",
     "text": [
      "1.0136869313895842\n"
     ]
    },
    {
     "name": "stderr",
     "output_type": "stream",
     "text": [
      "\n"
     ]
    }
   ],
   "source": [
    "data = data1\n",
    "label = label1\n",
    "res = []\n",
    "for i in trange(len(data)):\n",
    "    a = get_text_emb(data[i])\n",
    "    b = get_text_emb(label[i])\n",
    "    res.append(np.linalg.norm(np.array(a) - np.array(b)))\n",
    "#     res.append(cosine_similarity(np.array(a), np.array(b)))\n",
    "print(np.mean(res))"
   ]
  },
  {
   "cell_type": "code",
   "execution_count": 25,
   "id": "f7d28078",
   "metadata": {},
   "outputs": [
    {
     "name": "stderr",
     "output_type": "stream",
     "text": [
      "100%|██████████| 500/500 [01:00<00:00,  8.26it/s]"
     ]
    },
    {
     "name": "stdout",
     "output_type": "stream",
     "text": [
      "1.021801814700858\n"
     ]
    },
    {
     "name": "stderr",
     "output_type": "stream",
     "text": [
      "\n"
     ]
    }
   ],
   "source": [
    "data = data2\n",
    "label = label2\n",
    "res = []\n",
    "for i in trange(len(data)):\n",
    "    a = get_text_emb(data[i])\n",
    "    b = get_text_emb(label[i])\n",
    "    res.append(np.linalg.norm(np.array(a) - np.array(b)))\n",
    "#     res.append(cosine_similarity(np.array(a), np.array(b)))\n",
    "print(np.mean(res))"
   ]
  },
  {
   "cell_type": "code",
   "execution_count": 26,
   "id": "8b455e41",
   "metadata": {},
   "outputs": [
    {
     "name": "stderr",
     "output_type": "stream",
     "text": [
      "100%|██████████| 500/500 [00:59<00:00,  8.37it/s]"
     ]
    },
    {
     "name": "stdout",
     "output_type": "stream",
     "text": [
      "1.0856996985680356\n"
     ]
    },
    {
     "name": "stderr",
     "output_type": "stream",
     "text": [
      "\n"
     ]
    }
   ],
   "source": [
    "data = data3\n",
    "label = label3\n",
    "res = []\n",
    "for i in trange(len(data)):\n",
    "    a = get_text_emb(data[i])\n",
    "    b = get_text_emb(label[i])\n",
    "    res.append(np.linalg.norm(np.array(a) - np.array(b)))\n",
    "#     res.append(cosine_similarity(np.array(a), np.array(b)))\n",
    "print(np.mean(res))"
   ]
  },
  {
   "cell_type": "code",
   "execution_count": 27,
   "id": "7fd56b50",
   "metadata": {},
   "outputs": [
    {
     "name": "stderr",
     "output_type": "stream",
     "text": [
      "100%|██████████| 500/500 [00:59<00:00,  8.43it/s]"
     ]
    },
    {
     "name": "stdout",
     "output_type": "stream",
     "text": [
      "1.0293161768524337\n"
     ]
    },
    {
     "name": "stderr",
     "output_type": "stream",
     "text": [
      "\n"
     ]
    }
   ],
   "source": [
    "data = data4\n",
    "label = label4\n",
    "res = []\n",
    "for i in trange(len(data)):\n",
    "    a = get_text_emb(data[i])\n",
    "    b = get_text_emb(label[i])\n",
    "    res.append(np.linalg.norm(np.array(a) - np.array(b)))\n",
    "#     res.append(cosine_similarity(np.array(a), np.array(b)))\n",
    "print(np.mean(res))"
   ]
  },
  {
   "cell_type": "code",
   "execution_count": 45,
   "id": "52714ef3",
   "metadata": {},
   "outputs": [
    {
     "name": "stderr",
     "output_type": "stream",
     "text": [
      "100%|██████████| 50/50 [00:05<00:00,  9.30it/s]"
     ]
    },
    {
     "name": "stdout",
     "output_type": "stream",
     "text": [
      "0.36536895165461436\n"
     ]
    },
    {
     "name": "stderr",
     "output_type": "stream",
     "text": [
      "\n"
     ]
    }
   ],
   "source": [
    "data = data9\n",
    "label = label9\n",
    "res = []\n",
    "for i in trange(len(data)):\n",
    "    a = get_text_emb(data[i])\n",
    "    b = get_text_emb(label[i])\n",
    "#     res.append(np.linalg.norm(np.array(a) - np.array(b)))\n",
    "    res.append(cosine_similarity(np.array(a), np.array(b)))\n",
    "print(np.mean(res))"
   ]
  },
  {
   "cell_type": "code",
   "execution_count": null,
   "id": "74158ada",
   "metadata": {},
   "outputs": [],
   "source": []
  }
 ],
 "metadata": {
  "kernelspec": {
   "display_name": "Python 3",
   "language": "python",
   "name": "python3"
  },
  "language_info": {
   "codemirror_mode": {
    "name": "ipython",
    "version": 3
   },
   "file_extension": ".py",
   "mimetype": "text/x-python",
   "name": "python",
   "nbconvert_exporter": "python",
   "pygments_lexer": "ipython3",
   "version": "3.8.8"
  }
 },
 "nbformat": 4,
 "nbformat_minor": 5
}
