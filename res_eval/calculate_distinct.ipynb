{
 "cells": [
  {
   "cell_type": "code",
   "execution_count": 6,
   "id": "0dd4cb27",
   "metadata": {},
   "outputs": [],
   "source": [
    "import numpy as np"
   ]
  },
  {
   "cell_type": "code",
   "execution_count": 108,
   "id": "50184cb7",
   "metadata": {},
   "outputs": [],
   "source": [
    "path = \"../src_v7_sent_prmpt_ele-wise-mul/res/renew_lr1e-5_ep5_add_bs96_kl02_tk10_tp07_tm1o1_rpt1o5_1.txt\"\n",
    "with open(path, \"r\") as f: # samples_cl_ln_lr1e-5_ep3\n",
    "    data1 = f.readlines()\n",
    "data1 = [item.strip() for item in data1]\n",
    "# with open(\"./baselines/gpt2_samples_tk10_tp07_tm1o1_rpt1o5_ep3.txt\", \"r\") as f: # samples_cl_ln_lr1e-5_ep3\n",
    "#     data1 = f.readlines()\n",
    "# data1 = [item.strip() for item in data1]\n",
    "with open(\"../src_v4_new_gpt/res/samples_wocl_ln_lr1e-5_ep3.txt\", \"r\") as f:\n",
    "    data2 = f.readlines()\n",
    "data2 = [item.strip() for item in data2]\n",
    "with open(\"../src_wo_img/res/samples_wo_img_lr1e-5_ep3.txt\", \"r\") as f:\n",
    "    data3 = f.readlines()\n",
    "data3 = [item.strip() for item in data3]\n",
    "with open(\"../src_wo_text/res/samples_wo_text_lr1e-5_ep3.txt\", \"r\") as f:\n",
    "    data4 = f.readlines()\n",
    "data4 = [item.strip() for item in data4]\n",
    "\n",
    "\n",
    "\n",
    "with open(\"baselines/plan_samples.txt\", \"r\") as f:\n",
    "    data5 = f.readlines()\n",
    "data5 = [item.strip() for item in data5]\n",
    "with open(\"baselines/wm_samples.txt\", \"r\") as f:\n",
    "    data6 = f.readlines()\n",
    "data6 = [item.strip() for item in data6]\n",
    "with open(\"baselines/gpt2_samples.txt\", \"r\") as f:\n",
    "    data7 = f.readlines()\n",
    "data7 = [item.strip() for item in data7]\n",
    "with open(\"baselines/iprompt_samples.txt\", \"r\") as f:\n",
    "    data8 = f.readlines()\n",
    "data8 = [item.strip() for item in data8]\n",
    "with open(\"baselines/iprompt_labels.txt\", \"r\") as f:\n",
    "    labels8 = f.readlines()\n",
    "labels8 = [item.strip() for item in labels8]\n",
    "with open(\"baselines/img2poem_samples.txt\", \"r\") as f:\n",
    "    data9 = f.readlines()\n",
    "data9 = [item.strip() for item in data9]"
   ]
  },
  {
   "cell_type": "code",
   "execution_count": null,
   "id": "4fff79e7",
   "metadata": {},
   "outputs": [],
   "source": []
  },
  {
   "cell_type": "markdown",
   "id": "faa9f30a",
   "metadata": {},
   "source": [
    "## 计算diversity"
   ]
  },
  {
   "cell_type": "code",
   "execution_count": 73,
   "id": "618d6abd",
   "metadata": {},
   "outputs": [],
   "source": [
    "# def create_ngram_set(input_list, ngram_num):\n",
    "#     if len(input_list) < ngram_num:\n",
    "#         return set()\n",
    "#     if len(input_list) <= ngram_num:\n",
    "#         # print('111:', input_list, {tuple(list(input_list))})\n",
    "#         return {tuple(list(input_list))}\n",
    "#     else:\n",
    "#         # print('222:', input_list, set(zip(*[input_list[i:] for i in range(ngram_num)])))\n",
    "#         return set(zip(*[input_list[i:] for i in range(ngram_num)]))"
   ]
  },
  {
   "cell_type": "code",
   "execution_count": 74,
   "id": "f9283f8e",
   "metadata": {},
   "outputs": [],
   "source": [
    "# a = create_ngram_set(\"这是测试文本\",2)\n",
    "# b = create_ngram_set(\"另一个文本\", 2)\n",
    "# print(a, b, a|b, a&b, a^b, len(a&b)/len(a|b))"
   ]
  },
  {
   "cell_type": "code",
   "execution_count": 22,
   "id": "87d37872",
   "metadata": {},
   "outputs": [],
   "source": [
    "# def calculate_1_diversity(samples, ngram_n):\n",
    "#     res = []\n",
    "#     for poem in samples:\n",
    "#         tmp = set()\n",
    "#         lines = poem.split('，')\n",
    "#         for line in lines:\n",
    "#             tmp |= create_ngram_set(line, ngram_n)\n",
    "#         res.append(tmp)\n",
    "# #     print(res[0], res[1])\n",
    "#     numerator = res[0] ^ res[1] ^ res[2] ^ res[3] ^ res[4] ^ res[5] ^ res[6] ^ res[7] ^ res[8] ^ res[9]\n",
    "#     denominator = res[0] | res[1] | res[2] | res[3] | res[4] | res[5] | res[6] | res[7] | res[8] | res[9] \n",
    "#     # print(len(numerator), len(denominator))\n",
    "#     return len(numerator) / len(denominator)"
   ]
  },
  {
   "cell_type": "code",
   "execution_count": 23,
   "id": "90a36f7d",
   "metadata": {},
   "outputs": [],
   "source": [
    "# def calculate_N_diversity(inputs, ngram):\n",
    "#     res = []\n",
    "#     for i in range(0, len(inputs), 10):\n",
    "#         div = calculate_1_diversity(inputs[i:i+10], ngram)\n",
    "#         res.append(div)\n",
    "#     # print(res)\n",
    "#     return np.mean(res)"
   ]
  },
  {
   "cell_type": "code",
   "execution_count": 24,
   "id": "03aebd5a",
   "metadata": {
    "scrolled": true
   },
   "outputs": [],
   "source": [
    "# ngram = 1\n",
    "# res1 = calculate_N_diversity(data1, ngram)\n",
    "# res2 = calculate_N_diversity(data2, ngram)\n",
    "# res3 = calculate_N_diversity(data3, ngram)\n",
    "# res4 = calculate_N_diversity(data4, ngram)\n",
    "# res5 = calculate_N_diversity(data5, ngram)\n",
    "# res1, res2, res3, res4, res5"
   ]
  },
  {
   "cell_type": "code",
   "execution_count": null,
   "id": "2e2b8235",
   "metadata": {},
   "outputs": [],
   "source": []
  },
  {
   "cell_type": "code",
   "execution_count": null,
   "id": "a696eb8b",
   "metadata": {},
   "outputs": [],
   "source": []
  },
  {
   "cell_type": "code",
   "execution_count": null,
   "id": "0ec6dbe5",
   "metadata": {},
   "outputs": [],
   "source": []
  },
  {
   "cell_type": "markdown",
   "id": "36f84755",
   "metadata": {},
   "source": [
    "## 计算distinct"
   ]
  },
  {
   "cell_type": "code",
   "execution_count": 2,
   "id": "de188d88",
   "metadata": {},
   "outputs": [
    {
     "data": {
      "text/plain": [
       "(500,\n",
       " '不要说我们的爱情，只是一个梦，你对他没有感觉，但却还在心里，想着曾经拥抱，那种温暖，如今变成了寂寞，我知道你也很难过，因为太多伤害，所以才让自己')"
      ]
     },
     "execution_count": 2,
     "metadata": {},
     "output_type": "execute_result"
    }
   ],
   "source": [
    "len(data1), data1[0]"
   ]
  },
  {
   "cell_type": "code",
   "execution_count": 4,
   "id": "488d924d",
   "metadata": {},
   "outputs": [
    {
     "name": "stdout",
     "output_type": "stream",
     "text": [
      "0.8\n"
     ]
    }
   ],
   "source": [
    "from paddlenlp.metrics import Distinct\n",
    "distinct = Distinct(n_size=2)\n",
    "cand = [\"The\",\"cat\",\"The\",\"cat\",\"on\",\"the\"]\n",
    "distinct.add_inst(cand)\n",
    "print(distinct.score()) # 0.8333333333333334"
   ]
  },
  {
   "cell_type": "code",
   "execution_count": 109,
   "id": "94797c9e",
   "metadata": {},
   "outputs": [
    {
     "name": "stdout",
     "output_type": "stream",
     "text": [
      "0.32429162899197544\n",
      "0.7426630701845105\n",
      "0.919122566062851\n"
     ]
    },
    {
     "data": {
      "text/plain": [
       "(None, None, None)"
      ]
     },
     "execution_count": 109,
     "metadata": {},
     "output_type": "execute_result"
    }
   ],
   "source": [
    "def cal_dist(data, n):\n",
    "    res = []\n",
    "    for i in range(0,len(data),10):\n",
    "        lines = data[i:i+10]\n",
    "        distinct = Distinct(n_size=n)\n",
    "        for line in lines:\n",
    "            distinct.add_inst(list(line))\n",
    "        res.append(distinct.score())\n",
    "#     print(distinct.score())\n",
    "    print(np.mean(res))\n",
    "# n = 1\n",
    "# cal_dist(data1, n), cal_dist(data2, n), cal_dist(data3, n), cal_dist(data4, n), \\\n",
    "# cal_dist(data5, n), cal_dist(data6, n), cal_dist(data7, n)\n",
    "cal_dist(data1, 1), cal_dist(data1, 2), cal_dist(data1, 3)"
   ]
  },
  {
   "cell_type": "code",
   "execution_count": null,
   "id": "6dcbdf93",
   "metadata": {},
   "outputs": [],
   "source": []
  },
  {
   "cell_type": "markdown",
   "id": "f8a09ccb",
   "metadata": {},
   "source": [
    "### 计算img2poem的distinct"
   ]
  },
  {
   "cell_type": "code",
   "execution_count": 102,
   "id": "505758f8",
   "metadata": {},
   "outputs": [
    {
     "name": "stdout",
     "output_type": "stream",
     "text": [
      "0.20010713952852385\n",
      "0.41260806296058716\n",
      "0.5301637227731582\n"
     ]
    },
    {
     "data": {
      "text/plain": [
       "(None, None, None)"
      ]
     },
     "execution_count": 102,
     "metadata": {},
     "output_type": "execute_result"
    }
   ],
   "source": [
    "def cal_dist(data, n):\n",
    "    res = []\n",
    "    i = 0\n",
    "    distinct = Distinct(n_size=n)\n",
    "    while i < len(data):\n",
    "        line = data[i]\n",
    "        distinct.add_inst(list(line))\n",
    "        res.append(distinct.score())\n",
    "        i += 1\n",
    "#     print(distinct.score())\n",
    "    print(np.mean(res))\n",
    "cal_dist(data9, 1), cal_dist(data9, 2), cal_dist(data9, 3)"
   ]
  },
  {
   "cell_type": "code",
   "execution_count": null,
   "id": "fafcdabe",
   "metadata": {},
   "outputs": [],
   "source": []
  },
  {
   "cell_type": "code",
   "execution_count": null,
   "id": "4410ed67",
   "metadata": {},
   "outputs": [],
   "source": []
  },
  {
   "cell_type": "markdown",
   "id": "2b1edc13",
   "metadata": {},
   "source": [
    "### 计算iprompt的distinct"
   ]
  },
  {
   "cell_type": "code",
   "execution_count": 11,
   "id": "31b101ac",
   "metadata": {},
   "outputs": [
    {
     "data": {
      "text/plain": [
       "(['曲编雷颂德词黄伟文，听旁人说很满足，却从未揣摩清楚，人们实在说什么，在绝地种出花朵，从未试过叫我满面春风过，你来提我好与多，太容易分不清楚，问我实在欠什么，像大漠变出运河',\n",
       "  '曲编雷颂德词黄伟文，听旁人说很满足，却从未揣摩清楚，人们实在说什么，在绝地种出花朵，从未试过叫我满面春风过，你来提我好与多，太容易分不清楚，问我实在欠什么，像大漠变出运河',\n",
       "  '曲编雷颂德词黄伟文，听旁人说很满足，却从未揣摩清楚，人们实在说什么，在绝地种出花朵，从未试过叫我满面春风过，你来提我好与多，太容易分不清楚，问我实在欠什么，像大漠变出运河',\n",
       "  '曲编雷颂德词黄伟文，听旁人说很满足，却从未揣摩清楚，人们实在说什么，在绝地种出花朵，从未试过叫我满面春风过，你来提我好与多，太容易分不清楚，问我实在欠什么，像大漠变出运河',\n",
       "  '始终相守相勉，誓约山盟今生永存，为你从今不讲再见，长伴裙边永共缠绵，愿你同相依，每天朝晚得见，莫再分离相思寸寸，渡过困苦情义倍添，要共寻理想心更坚，就算理想如梦似烟'],\n",
       " ['能将多少难割舍?才讲慷慨为君子，分付人生牢牢记,怎定情景处处齐，一双通臂勇发劲,仗剑还须君不疑，有心活泼多欢悦,一去掀开解决时',\n",
       "  '能将多少难割舍?登高驶目我心畅，依稀旧游同为客,零落回忆多感伤，错剪传说滋味远,离别伤痛渐觉凉，却嫌孑然平生过,还是相交叙旧强',\n",
       "  '一壶浊酒浇恨意,而今遗失步无鞋，爱人怒我登墙去,几度轻如落叶飞，纵眼望去长路渺,不经鸿蒙怎堪期，日后慎保怀自任,离别岂能惧相思',\n",
       "  '造化弄人终偶然,为人求索反一生，百转千回多是惑,浮生一线是良时',\n",
       "  '除却苍穹日月星,涓流永长向东游，爱人不见既姓名,无处可寻拉忧愁，成双成对昼夜沉,一曲清泉流幽柔，环抱一问尽此生,伴君消受又惆怅'])"
      ]
     },
     "execution_count": 11,
     "metadata": {},
     "output_type": "execute_result"
    }
   ],
   "source": [
    "labels8[:5], data8[:5]"
   ]
  },
  {
   "cell_type": "code",
   "execution_count": 15,
   "id": "bcb23dc4",
   "metadata": {},
   "outputs": [
    {
     "name": "stdout",
     "output_type": "stream",
     "text": [
      "0.7280950311214829\n",
      "0.9490035091288873\n",
      "0.9585102090785966\n"
     ]
    },
    {
     "data": {
      "text/plain": [
       "(None, None, None)"
      ]
     },
     "execution_count": 15,
     "metadata": {},
     "output_type": "execute_result"
    }
   ],
   "source": [
    "def cal_dist(data, n):\n",
    "    res = []\n",
    "    i = 0\n",
    "    while i < len(data):\n",
    "        nsamples = labels8.count(labels8[i])\n",
    "        lines = data[i:i+nsamples]\n",
    "        distinct = Distinct(n_size=n)\n",
    "        for line in lines:\n",
    "            distinct.add_inst(list(line))\n",
    "        res.append(distinct.score())\n",
    "        i += nsamples\n",
    "#         break\n",
    "#     print(distinct.score())\n",
    "    print(np.mean(res))\n",
    "cal_dist(data8, 1), cal_dist(data8, 2), cal_dist(data8, 3)"
   ]
  },
  {
   "cell_type": "code",
   "execution_count": null,
   "id": "532dfeb4",
   "metadata": {},
   "outputs": [],
   "source": []
  },
  {
   "cell_type": "code",
   "execution_count": null,
   "id": "b39907e2",
   "metadata": {},
   "outputs": [],
   "source": []
  },
  {
   "cell_type": "code",
   "execution_count": null,
   "id": "22c9b0c9",
   "metadata": {},
   "outputs": [],
   "source": []
  },
  {
   "cell_type": "code",
   "execution_count": null,
   "id": "7556b7e5",
   "metadata": {},
   "outputs": [],
   "source": []
  },
  {
   "cell_type": "code",
   "execution_count": 17,
   "id": "93740e7e",
   "metadata": {},
   "outputs": [],
   "source": [
    "def calculate_1_distinct(samples, ngram_n):\n",
    "    res = []\n",
    "#     for poem in samples:\n",
    "#         distinct = Distinct(n_size=ngram_n)\n",
    "#         lines = poem.split(':')[1].split('|')\n",
    "#         for line in lines:\n",
    "#             distinct.add_inst(list(line))\n",
    "#         res.append(distinct.score())\n",
    "\n",
    "    poems = []\n",
    "    for poem in samples:\n",
    "        lines = poem.split('，')\n",
    "        poems.append(lines)\n",
    "#     print(len(poems[0]), len(poems[1]), len(poems[2]), len(poems[3]))\n",
    "    for i in range(len(poems[0])):\n",
    "        try:\n",
    "            distinct = Distinct(n_size=ngram_n)\n",
    "            for s in range(len(poems)):\n",
    "                line = poems[s][i]\n",
    "                distinct.add_inst(list(line))\n",
    "            res.append(distinct.score())\n",
    "        except:\n",
    "            continue\n",
    "    # print(res)\n",
    "    return np.mean(res)"
   ]
  },
  {
   "cell_type": "code",
   "execution_count": 18,
   "id": "e8f39f46",
   "metadata": {},
   "outputs": [],
   "source": [
    "def calculate_N_distinct(inputs, ngram): # 240\n",
    "    res = []\n",
    "    for i in range(0, len(inputs), 10):\n",
    "        div = calculate_1_distinct(inputs[i:i+10], ngram)\n",
    "        res.append(div)\n",
    "    # print(res)\n",
    "    return np.mean(res)"
   ]
  },
  {
   "cell_type": "code",
   "execution_count": 110,
   "id": "6c31a1d0",
   "metadata": {},
   "outputs": [
    {
     "data": {
      "text/plain": [
       "(0.9154657743260896, 0.911991648948531, 0.9054952725989203, 0.9114804788696582)"
      ]
     },
     "execution_count": 110,
     "metadata": {},
     "output_type": "execute_result"
    }
   ],
   "source": [
    "ngram = 2\n",
    "res1 = calculate_N_distinct(data1, ngram)\n",
    "res2 = calculate_N_distinct(data2, ngram)\n",
    "res3 = calculate_N_distinct(data3, ngram)\n",
    "res4 = calculate_N_distinct(data4, ngram)\n",
    "res1, res2, res3, res4"
   ]
  },
  {
   "cell_type": "code",
   "execution_count": null,
   "id": "bd166089",
   "metadata": {},
   "outputs": [],
   "source": []
  },
  {
   "cell_type": "code",
   "execution_count": null,
   "id": "2c3b3812",
   "metadata": {},
   "outputs": [],
   "source": []
  },
  {
   "cell_type": "code",
   "execution_count": 67,
   "id": "478f538e",
   "metadata": {},
   "outputs": [
    {
     "name": "stdout",
     "output_type": "stream",
     "text": [
      "0.8\n"
     ]
    }
   ],
   "source": [
    "from paddlenlp.metrics import Distinct\n",
    "distinct = Distinct(n_size=2)\n",
    "cand = [\"The\",\"cat\",\"The\",\"cat\",\"on\",\"the\"]\n",
    "distinct.add_inst(cand)\n",
    "print(distinct.score()) # 0.8333333333333334"
   ]
  },
  {
   "cell_type": "code",
   "execution_count": 25,
   "id": "a4c7fb82",
   "metadata": {},
   "outputs": [
    {
     "name": "stdout",
     "output_type": "stream",
     "text": [
      "0.8333333333333334\n"
     ]
    }
   ],
   "source": [
    "cand = [\"The1\",\"cat1\",\"on1\",\"the1\",\"mat1\"]\n",
    "distinct.add_inst(cand)\n",
    "print(distinct.score()) # 0.8333333333333334"
   ]
  },
  {
   "cell_type": "code",
   "execution_count": null,
   "id": "6810a8ac",
   "metadata": {},
   "outputs": [],
   "source": []
  },
  {
   "cell_type": "code",
   "execution_count": 133,
   "id": "52f10228",
   "metadata": {},
   "outputs": [
    {
     "name": "stdout",
     "output_type": "stream",
     "text": [
      "{'apple1', 'apple'}\n",
      "{'cherry1', 'banana', 'apple'}\n",
      "{'apple', 'apple1'}\n",
      "{'apple', 'cherry'}\n"
     ]
    }
   ],
   "source": [
    "c = {\"apple\", \"banana\", \"cherry\"}\n",
    "d = {\"apple1\", \"banana\", \"cherry\"}\n",
    "e = {\"apple1\", \"banana\", \"cherry1\"}\n",
    "f = {\"apple1\", \"banana\", \"cherry1\"}\n",
    "print(c^d) # {'apple', 'apple1'} ?\n",
    "print(c^d^e) # {'apple', 'cherry1'} ?\n",
    "print(c^d^e^f) # {'apple'} ?\n",
    "print((c-d)&(c-e)|(c-f)|(d-e)|(e-f))"
   ]
  },
  {
   "cell_type": "code",
   "execution_count": null,
   "id": "1ab85409",
   "metadata": {},
   "outputs": [],
   "source": []
  }
 ],
 "metadata": {
  "kernelspec": {
   "display_name": "Python 3",
   "language": "python",
   "name": "python3"
  },
  "language_info": {
   "codemirror_mode": {
    "name": "ipython",
    "version": 3
   },
   "file_extension": ".py",
   "mimetype": "text/x-python",
   "name": "python",
   "nbconvert_exporter": "python",
   "pygments_lexer": "ipython3",
   "version": "3.8.8"
  }
 },
 "nbformat": 4,
 "nbformat_minor": 5
}
