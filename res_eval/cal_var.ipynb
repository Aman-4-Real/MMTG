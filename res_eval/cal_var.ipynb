{
 "cells": [
  {
   "cell_type": "code",
   "execution_count": 1,
   "id": "9c760aa9",
   "metadata": {},
   "outputs": [],
   "source": [
    "from scipy import stats"
   ]
  },
  {
   "cell_type": "code",
   "execution_count": 2,
   "id": "d6030f8d",
   "metadata": {},
   "outputs": [],
   "source": [
    "def ret_pvalue(a, b):\n",
    "    return stats.ttest_ind(a, b, axis=0, equal_var=True, nan_policy='propagate').pvalue"
   ]
  },
  {
   "cell_type": "code",
   "execution_count": 4,
   "id": "8959533b",
   "metadata": {},
   "outputs": [],
   "source": [
    "with open(\"baselines/labels.txt\", \"r\") as f:\n",
    "    labels = f.readlines()\n",
    "labels = [line.strip() for line in labels]"
   ]
  },
  {
   "cell_type": "code",
   "execution_count": null,
   "id": "deea8df1",
   "metadata": {},
   "outputs": [],
   "source": []
  },
  {
   "cell_type": "code",
   "execution_count": null,
   "id": "56672841",
   "metadata": {},
   "outputs": [],
   "source": []
  },
  {
   "cell_type": "markdown",
   "id": "0b2a64c2",
   "metadata": {},
   "source": [
    "# BLEU-2"
   ]
  },
  {
   "cell_type": "code",
   "execution_count": 15,
   "id": "ff999d15",
   "metadata": {},
   "outputs": [],
   "source": [
    "from nltk.translate.bleu_score import sentence_bleu\n",
    "import numpy as np"
   ]
  },
  {
   "cell_type": "code",
   "execution_count": 24,
   "id": "69719d4a",
   "metadata": {},
   "outputs": [],
   "source": [
    "def cal_b2(path):\n",
    "    with open(\"baselines/labels.txt\", \"r\") as f:\n",
    "        labels = f.readlines()\n",
    "    labels = [line.strip() for line in labels]\n",
    "    with open(path, \"r\", encoding=\"utf8\") as f:\n",
    "        preds = f.readlines()\n",
    "    preds = [list(line.strip()) for line in preds]\n",
    "    bleu2 = []\n",
    "    for i, pred in enumerate(preds):\n",
    "        bleu2.append(sentence_bleu([labels[i]], pred, weights=(0, 1, 0, 0)))\n",
    "    print(\"BLEU-2:\", np.mean(bleu2))\n",
    "    return bleu2"
   ]
  },
  {
   "cell_type": "code",
   "execution_count": 27,
   "id": "73031f46",
   "metadata": {},
   "outputs": [
    {
     "name": "stdout",
     "output_type": "stream",
     "text": [
      "BLEU-2: 0.025520931844657133\n",
      "BLEU-2: 0.026886289254387977\n",
      "BLEU-2: 0.022160881639356828\n"
     ]
    }
   ],
   "source": [
    "path1 = \"baselines/gpt2_samples_tk10_tp07_tm1o1_rpt1o5_ep3.txt\"\n",
    "path2 = \"../src_v7_sent_prmpt_ele-wise-mul/res/renew_lr1e-5_ep5_add_bs96_kl02_tk10_tp07_tm1o1_rpt1o5_1.txt\"\n",
    "path3 = \"../src_images2poem/res/lr1e-5_bs256_tk10_tp07_tm1o1_rpt1o5.txt\"\n",
    "\n",
    "b2_gpt2, b2_my, b2_i2p = cal_b2(path1), cal_b2(path2), cal_b2(path3)"
   ]
  },
  {
   "cell_type": "code",
   "execution_count": 33,
   "id": "7a2ed0c0",
   "metadata": {},
   "outputs": [
    {
     "data": {
      "text/plain": [
       "(0.2840925975249259, 0.0002847968087085035)"
      ]
     },
     "execution_count": 33,
     "metadata": {},
     "output_type": "execute_result"
    }
   ],
   "source": [
    "ret_pvalue(b2_my, b2_gpt2), ret_pvalue(b2_my, b2_i2p)"
   ]
  },
  {
   "cell_type": "code",
   "execution_count": null,
   "id": "8c9585bc",
   "metadata": {},
   "outputs": [],
   "source": []
  },
  {
   "cell_type": "markdown",
   "id": "216ba269",
   "metadata": {},
   "source": [
    "### 计算方差"
   ]
  },
  {
   "cell_type": "code",
   "execution_count": 63,
   "id": "236c836b",
   "metadata": {},
   "outputs": [
    {
     "data": {
      "text/plain": [
       "0.0004322265775886767"
      ]
     },
     "execution_count": 63,
     "metadata": {},
     "output_type": "execute_result"
    }
   ],
   "source": [
    "np.var(b2_my)"
   ]
  },
  {
   "cell_type": "code",
   "execution_count": 106,
   "id": "74714a45",
   "metadata": {},
   "outputs": [
    {
     "name": "stdout",
     "output_type": "stream",
     "text": [
      "BLEU-2: 0.02617243592073183\n"
     ]
    },
    {
     "data": {
      "text/plain": [
       "0.0004231324265734881"
      ]
     },
     "execution_count": 106,
     "metadata": {},
     "output_type": "execute_result"
    }
   ],
   "source": [
    "tmp_path = \"../src_wo_img_text_v7/res/new_lr1e-5_ep5_add_wo_text_bs96_kl02_tk10_tp07_tm1o1_rpt1o5.txt\"\n",
    "tmp_res = cal_b2(tmp_path)\n",
    "np.var(tmp_res)"
   ]
  },
  {
   "cell_type": "code",
   "execution_count": null,
   "id": "d9291196",
   "metadata": {},
   "outputs": [],
   "source": []
  },
  {
   "cell_type": "markdown",
   "id": "76626b57",
   "metadata": {},
   "source": [
    "# Distinct-2"
   ]
  },
  {
   "cell_type": "code",
   "execution_count": 37,
   "id": "c180650d",
   "metadata": {},
   "outputs": [],
   "source": [
    "from paddlenlp.metrics import Distinct"
   ]
  },
  {
   "cell_type": "code",
   "execution_count": 40,
   "id": "8b48cdfe",
   "metadata": {},
   "outputs": [],
   "source": [
    "def cal_dist2(path):\n",
    "    with open(\"baselines/labels.txt\", \"r\") as f:\n",
    "        labels = f.readlines()\n",
    "    labels = [line.strip() for line in labels]\n",
    "    with open(path, \"r\") as f:\n",
    "        preds = f.readlines()\n",
    "    preds = [item.strip() for item in preds]\n",
    "    res = []\n",
    "    n = 2\n",
    "    for i in range(0,len(preds),10):\n",
    "        lines = preds[i:i+10]\n",
    "        distinct = Distinct(n_size=n)\n",
    "        for line in lines:\n",
    "            distinct.add_inst(list(line))\n",
    "        res.append(distinct.score())\n",
    "    print(np.mean(res))\n",
    "    return res"
   ]
  },
  {
   "cell_type": "code",
   "execution_count": 42,
   "id": "e066cd37",
   "metadata": {},
   "outputs": [
    {
     "name": "stdout",
     "output_type": "stream",
     "text": [
      "0.5829944218043763\n",
      "0.7426630701845105\n",
      "0.6601902324598453\n"
     ]
    }
   ],
   "source": [
    "path1 = \"baselines/gpt2_samples_tk10_tp07_tm1o1_rpt1o5_ep3.txt\"\n",
    "path2 = \"../src_v7_sent_prmpt_ele-wise-mul/res/renew_lr1e-5_ep5_add_bs96_kl02_tk10_tp07_tm1o1_rpt1o5_1.txt\"\n",
    "path3 = \"../src_images2poem/res/lr1e-5_bs256_tk10_tp07_tm1o1_rpt1o5.txt\"\n",
    "\n",
    "dist2_gpt2, dist2__my, dist2__i2p = cal_dist2(path1), cal_dist2(path2), cal_dist2(path3)"
   ]
  },
  {
   "cell_type": "code",
   "execution_count": 43,
   "id": "ca66bafc",
   "metadata": {},
   "outputs": [
    {
     "data": {
      "text/plain": [
       "(4.567203548098187e-62, 9.356413222842288e-36)"
      ]
     },
     "execution_count": 43,
     "metadata": {},
     "output_type": "execute_result"
    }
   ],
   "source": [
    "ret_pvalue(dist2__my, dist2_gpt2), ret_pvalue(dist2__my, dist2__i2p)"
   ]
  },
  {
   "cell_type": "code",
   "execution_count": null,
   "id": "997f145f",
   "metadata": {},
   "outputs": [],
   "source": []
  },
  {
   "cell_type": "markdown",
   "id": "85246400",
   "metadata": {},
   "source": [
    "### 计算方差"
   ]
  },
  {
   "cell_type": "code",
   "execution_count": 74,
   "id": "61ce723e",
   "metadata": {},
   "outputs": [
    {
     "data": {
      "text/plain": [
       "0.0005768928758429675"
      ]
     },
     "execution_count": 74,
     "metadata": {},
     "output_type": "execute_result"
    }
   ],
   "source": [
    "np.var(dist2__my)"
   ]
  },
  {
   "cell_type": "code",
   "execution_count": 107,
   "id": "c2526bed",
   "metadata": {},
   "outputs": [
    {
     "name": "stdout",
     "output_type": "stream",
     "text": [
      "0.7527491334181662\n"
     ]
    },
    {
     "data": {
      "text/plain": [
       "0.0005202425955027605"
      ]
     },
     "execution_count": 107,
     "metadata": {},
     "output_type": "execute_result"
    }
   ],
   "source": [
    "tmp_path = \"../src_wo_img_text_v7/res/new_lr1e-5_ep5_add_wo_text_bs96_kl02_tk10_tp07_tm1o1_rpt1o5.txt\"\n",
    "tmp_res = cal_dist2(tmp_path)\n",
    "np.var(tmp_res)"
   ]
  },
  {
   "cell_type": "code",
   "execution_count": null,
   "id": "9281ea47",
   "metadata": {},
   "outputs": [],
   "source": []
  },
  {
   "cell_type": "code",
   "execution_count": null,
   "id": "593e37fb",
   "metadata": {},
   "outputs": [],
   "source": []
  },
  {
   "cell_type": "markdown",
   "id": "090c0366",
   "metadata": {},
   "source": [
    "# B.S."
   ]
  },
  {
   "cell_type": "code",
   "execution_count": 31,
   "id": "a5caf313",
   "metadata": {},
   "outputs": [],
   "source": [
    "from bert_score import score\n",
    "import warnings\n",
    "warnings.filterwarnings(\"ignore\")"
   ]
  },
  {
   "cell_type": "code",
   "execution_count": 28,
   "id": "c8e0a2df",
   "metadata": {},
   "outputs": [],
   "source": [
    "def cal_bs(path):\n",
    "    with open(\"baselines/labels.txt\", \"r\") as f:\n",
    "        labels = f.readlines()\n",
    "    labels = [line.strip() for line in labels]\n",
    "    with open(path, \"r\") as f:\n",
    "        samples = f.readlines()\n",
    "    samples = [line.strip() for line in samples]\n",
    "    _, _, F1 = score(samples, labels, lang=\"zh\", verbose=False)\n",
    "    print(f\"System level F1 score: {F1.mean():.3f}\")\n",
    "    return F1.tolist()"
   ]
  },
  {
   "cell_type": "code",
   "execution_count": 29,
   "id": "6c90f1c5",
   "metadata": {},
   "outputs": [
    {
     "name": "stderr",
     "output_type": "stream",
     "text": [
      "Some weights of the model checkpoint at bert-base-chinese were not used when initializing BertModel: ['cls.predictions.bias', 'cls.predictions.transform.dense.bias', 'cls.predictions.transform.dense.weight', 'cls.predictions.transform.LayerNorm.weight', 'cls.predictions.decoder.weight', 'cls.seq_relationship.bias', 'cls.seq_relationship.weight', 'cls.predictions.transform.LayerNorm.bias']\n",
      "- This IS expected if you are initializing BertModel from the checkpoint of a model trained on another task or with another architecture (e.g. initializing a BertForSequenceClassification model from a BertForPreTraining model).\n",
      "- This IS NOT expected if you are initializing BertModel from the checkpoint of a model that you expect to be exactly identical (initializing a BertForSequenceClassification model from a BertForSequenceClassification model).\n"
     ]
    },
    {
     "name": "stdout",
     "output_type": "stream",
     "text": [
      "System level F1 score: 0.576\n"
     ]
    },
    {
     "name": "stderr",
     "output_type": "stream",
     "text": [
      "Some weights of the model checkpoint at bert-base-chinese were not used when initializing BertModel: ['cls.predictions.bias', 'cls.predictions.transform.dense.bias', 'cls.predictions.transform.dense.weight', 'cls.predictions.transform.LayerNorm.weight', 'cls.predictions.decoder.weight', 'cls.seq_relationship.bias', 'cls.seq_relationship.weight', 'cls.predictions.transform.LayerNorm.bias']\n",
      "- This IS expected if you are initializing BertModel from the checkpoint of a model trained on another task or with another architecture (e.g. initializing a BertForSequenceClassification model from a BertForPreTraining model).\n",
      "- This IS NOT expected if you are initializing BertModel from the checkpoint of a model that you expect to be exactly identical (initializing a BertForSequenceClassification model from a BertForSequenceClassification model).\n"
     ]
    },
    {
     "name": "stdout",
     "output_type": "stream",
     "text": [
      "System level F1 score: 0.595\n"
     ]
    },
    {
     "name": "stderr",
     "output_type": "stream",
     "text": [
      "Some weights of the model checkpoint at bert-base-chinese were not used when initializing BertModel: ['cls.predictions.bias', 'cls.predictions.transform.dense.bias', 'cls.predictions.transform.dense.weight', 'cls.predictions.transform.LayerNorm.weight', 'cls.predictions.decoder.weight', 'cls.seq_relationship.bias', 'cls.seq_relationship.weight', 'cls.predictions.transform.LayerNorm.bias']\n",
      "- This IS expected if you are initializing BertModel from the checkpoint of a model trained on another task or with another architecture (e.g. initializing a BertForSequenceClassification model from a BertForPreTraining model).\n",
      "- This IS NOT expected if you are initializing BertModel from the checkpoint of a model that you expect to be exactly identical (initializing a BertForSequenceClassification model from a BertForSequenceClassification model).\n"
     ]
    },
    {
     "name": "stdout",
     "output_type": "stream",
     "text": [
      "System level F1 score: 0.585\n"
     ]
    }
   ],
   "source": [
    "path1 = \"baselines/gpt2_samples_tk10_tp07_tm1o1_rpt1o5_ep3.txt\"\n",
    "path2 = \"../src_v7_sent_prmpt_ele-wise-mul/res/renew_lr1e-5_ep5_add_bs96_kl02_tk10_tp07_tm1o1_rpt1o5_1.txt\"\n",
    "path3 = \"../src_images2poem/res/lr1e-5_bs256_tk10_tp07_tm1o1_rpt1o5.txt\"\n",
    "\n",
    "bs_gpt2, bs_my, bs_i2p = cal_bs(path1), cal_bs(path2), cal_bs(path3)"
   ]
  },
  {
   "cell_type": "code",
   "execution_count": 30,
   "id": "e4091e3a",
   "metadata": {},
   "outputs": [
    {
     "data": {
      "text/plain": [
       "(1.340879103980386e-27, 3.1019408168277275e-08)"
      ]
     },
     "execution_count": 30,
     "metadata": {},
     "output_type": "execute_result"
    }
   ],
   "source": [
    "ret_pvalue(bs_my, bs_gpt2), ret_pvalue(bs_my, bs_i2p)"
   ]
  },
  {
   "cell_type": "code",
   "execution_count": null,
   "id": "c3ef29bc",
   "metadata": {},
   "outputs": [],
   "source": []
  },
  {
   "cell_type": "markdown",
   "id": "f62e4d77",
   "metadata": {},
   "source": [
    "### 计算方差"
   ]
  },
  {
   "cell_type": "code",
   "execution_count": 79,
   "id": "d38af458",
   "metadata": {},
   "outputs": [
    {
     "data": {
      "text/plain": [
       "0.0008980903998380314"
      ]
     },
     "execution_count": 79,
     "metadata": {},
     "output_type": "execute_result"
    }
   ],
   "source": [
    "np.var(bs_my)"
   ]
  },
  {
   "cell_type": "code",
   "execution_count": 108,
   "id": "d43c9b09",
   "metadata": {},
   "outputs": [
    {
     "name": "stderr",
     "output_type": "stream",
     "text": [
      "Some weights of the model checkpoint at bert-base-chinese were not used when initializing BertModel: ['cls.predictions.bias', 'cls.predictions.transform.dense.bias', 'cls.predictions.transform.dense.weight', 'cls.predictions.transform.LayerNorm.weight', 'cls.predictions.decoder.weight', 'cls.seq_relationship.bias', 'cls.seq_relationship.weight', 'cls.predictions.transform.LayerNorm.bias']\n",
      "- This IS expected if you are initializing BertModel from the checkpoint of a model trained on another task or with another architecture (e.g. initializing a BertForSequenceClassification model from a BertForPreTraining model).\n",
      "- This IS NOT expected if you are initializing BertModel from the checkpoint of a model that you expect to be exactly identical (initializing a BertForSequenceClassification model from a BertForSequenceClassification model).\n"
     ]
    },
    {
     "name": "stdout",
     "output_type": "stream",
     "text": [
      "System level F1 score: 0.593\n"
     ]
    },
    {
     "data": {
      "text/plain": [
       "0.0008392173745298523"
      ]
     },
     "execution_count": 108,
     "metadata": {},
     "output_type": "execute_result"
    }
   ],
   "source": [
    "tmp_path = \"../src_wo_img_text_v7/res/new_lr1e-5_ep5_add_wo_text_bs96_kl02_tk10_tp07_tm1o1_rpt1o5.txt\"\n",
    "tmp_res = cal_bs(tmp_path)\n",
    "np.var(tmp_res)"
   ]
  },
  {
   "cell_type": "code",
   "execution_count": null,
   "id": "846d87f1",
   "metadata": {},
   "outputs": [],
   "source": []
  },
  {
   "cell_type": "code",
   "execution_count": null,
   "id": "cae5b868",
   "metadata": {},
   "outputs": [],
   "source": []
  },
  {
   "cell_type": "code",
   "execution_count": null,
   "id": "ccd3cb53",
   "metadata": {},
   "outputs": [],
   "source": []
  },
  {
   "cell_type": "markdown",
   "id": "1be75e7a",
   "metadata": {},
   "source": [
    "# NNR"
   ]
  },
  {
   "cell_type": "code",
   "execution_count": 44,
   "id": "012a8a20",
   "metadata": {},
   "outputs": [],
   "source": [
    "def create_ngram_set(input_list, ngram_num):\n",
    "    if len(input_list) < ngram_num:\n",
    "        return set()\n",
    "    if len(input_list) <= ngram_num:\n",
    "        return {tuple(list(input_list))}\n",
    "    else:\n",
    "        return set(zip(*[input_list[i:] for i in range(ngram_num)]))"
   ]
  },
  {
   "cell_type": "code",
   "execution_count": 45,
   "id": "e8309b6d",
   "metadata": {},
   "outputs": [],
   "source": [
    "def cal_new_ngrams_rate(ref_data, thep_data, n):\n",
    "    res = []\n",
    "    for i in range(len(ref_data)):\n",
    "        ref = ref_data[i]\n",
    "#         lines = [thep_data[i]]\n",
    "        lines = thep_data[i*10:(i+1)*10]\n",
    "        ref_unique_ngrams = create_ngram_set(ref, n)\n",
    "        tmp = []\n",
    "        for line in lines:\n",
    "            tmp_unique_ngrams = create_ngram_set(line, n)\n",
    "            tmp.append(len(tmp_unique_ngrams-ref_unique_ngrams)/len(ref_unique_ngrams|tmp_unique_ngrams))\n",
    "        res.append(np.mean(tmp))\n",
    "    print(np.mean(res))\n",
    "    \n",
    "    return res"
   ]
  },
  {
   "cell_type": "code",
   "execution_count": 53,
   "id": "c8569b11",
   "metadata": {},
   "outputs": [],
   "source": [
    "def cal_nnr(path1, path2, n):\n",
    "    with open(path1, \"r\") as f:\n",
    "        data1 = f.readlines()\n",
    "    data1 = [item.strip() for item in data1]\n",
    "    with open(path2, \"r\") as f:\n",
    "        data2 = f.readlines()\n",
    "    data2 = [item.strip() for item in data2]\n",
    "    return cal_new_ngrams_rate(data1, data2, n)"
   ]
  },
  {
   "cell_type": "code",
   "execution_count": 59,
   "id": "a5de5b0c",
   "metadata": {},
   "outputs": [
    {
     "name": "stdout",
     "output_type": "stream",
     "text": [
      "0.31534780072626356\n",
      "0.022549234258275354\n",
      "0.41097149127061533\n",
      "0.041066237847202064\n"
     ]
    }
   ],
   "source": [
    "path1 = \"../src_v7_sent_prmpt_ele-wise-mul/res/new_lr1e-5_ep5_add_bs96_kl02_tk1_tp0_tm1o1_rpt1o5.txt\"\n",
    "path2 = \"../src_v7_sent_prmpt_ele-wise-mul/res/new_lr1e-5_ep5_add_bs96_kl02_tk1_tp0_tm1o1_rpt1o5_disorder.txt\"\n",
    "\n",
    "path1_i2p = \"../src_images2poem/res/lr1e-5_bs256_tk1_tp0_tm1o1_rpt1o5.txt\"\n",
    "path2_i2p = \"../src_images2poem/res/lr1e-5_bs256_tk1_tp0_tm1o1_rpt1o5_disorder.txt\"\n",
    "\n",
    "nnr1_my, nnr1_i2p = cal_nnr(path1, path2, 1), cal_nnr(path1_i2p, path2_i2p, 1)\n",
    "nnr2_my, nnr2_i2p = cal_nnr(path1, path2, 2), cal_nnr(path1_i2p, path2_i2p, 2)"
   ]
  },
  {
   "cell_type": "code",
   "execution_count": 60,
   "id": "7007e801",
   "metadata": {},
   "outputs": [
    {
     "data": {
      "text/plain": [
       "(6.99815124186223e-52, 5.735710939481137e-51)"
      ]
     },
     "execution_count": 60,
     "metadata": {},
     "output_type": "execute_result"
    }
   ],
   "source": [
    "ret_pvalue(nnr1_my, nnr1_i2p), ret_pvalue(nnr2_my, nnr2_i2p)"
   ]
  },
  {
   "cell_type": "code",
   "execution_count": null,
   "id": "a5e6f259",
   "metadata": {},
   "outputs": [],
   "source": []
  },
  {
   "cell_type": "markdown",
   "id": "7240c476",
   "metadata": {},
   "source": [
    "### 计算方差"
   ]
  },
  {
   "cell_type": "code",
   "execution_count": 83,
   "id": "ae0f94f7",
   "metadata": {},
   "outputs": [
    {
     "data": {
      "text/plain": [
       "(0.003206073396215843, 0.0033092310283814068)"
      ]
     },
     "execution_count": 83,
     "metadata": {},
     "output_type": "execute_result"
    }
   ],
   "source": [
    "np.var(nnr1_my), np.var(nnr2_my)"
   ]
  },
  {
   "cell_type": "code",
   "execution_count": 109,
   "id": "425141c9",
   "metadata": {},
   "outputs": [
    {
     "name": "stdout",
     "output_type": "stream",
     "text": [
      "0.2629367177570771\n",
      "0.34995524071735656\n"
     ]
    },
    {
     "data": {
      "text/plain": [
       "(0.00488615104832266, 0.006767222387258911)"
      ]
     },
     "execution_count": 109,
     "metadata": {},
     "output_type": "execute_result"
    }
   ],
   "source": [
    "tmp_path1 = \"../src_wo_img_text_v7/res/new_lr1e-5_ep5_add_wo_text_bs96_kl02_tk1_tp0_tm1o1_rpt1o5.txt\"\n",
    "tmp_path2 = \"../src_wo_img_text_v7/res/new_lr1e-5_ep5_add_wo_text_bs96_kl02_tk1_tp0_tm1o1_rpt1o5_disorder.txt\"\n",
    "tmp_res1, tmp_res2 = cal_nnr(tmp_path1, tmp_path2, 1), cal_nnr(tmp_path1, tmp_path2, 2)\n",
    "np.var(tmp_res1), np.var(tmp_res2)"
   ]
  },
  {
   "cell_type": "code",
   "execution_count": null,
   "id": "b11b0e7c",
   "metadata": {},
   "outputs": [],
   "source": []
  }
 ],
 "metadata": {
  "kernelspec": {
   "display_name": "Python 3",
   "language": "python",
   "name": "python3"
  },
  "language_info": {
   "codemirror_mode": {
    "name": "ipython",
    "version": 3
   },
   "file_extension": ".py",
   "mimetype": "text/x-python",
   "name": "python",
   "nbconvert_exporter": "python",
   "pygments_lexer": "ipython3",
   "version": "3.8.8"
  }
 },
 "nbformat": 4,
 "nbformat_minor": 5
}
