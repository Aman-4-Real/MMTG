{
 "cells": [
  {
   "cell_type": "code",
   "execution_count": 1,
   "id": "1491ce59",
   "metadata": {},
   "outputs": [],
   "source": [
    "from bert_score import score"
   ]
  },
  {
   "cell_type": "code",
   "execution_count": 3,
   "id": "a50bd974",
   "metadata": {},
   "outputs": [],
   "source": [
    "with open(\"baselines/labels.txt\", \"r\") as f:\n",
    "    labels = f.readlines()\n",
    "labels = [line.strip() for line in labels]\n",
    "with open(\"baselines/samples.txt\", \"r\") as f:\n",
    "    samples = f.readlines()\n",
    "samples = [line.strip() for line in samples]"
   ]
  },
  {
   "cell_type": "code",
   "execution_count": 4,
   "id": "2153b14b",
   "metadata": {},
   "outputs": [
    {
     "name": "stderr",
     "output_type": "stream",
     "text": [
      "Some weights of the model checkpoint at bert-base-chinese were not used when initializing BertModel: ['cls.predictions.transform.dense.bias', 'cls.seq_relationship.bias', 'cls.predictions.transform.LayerNorm.weight', 'cls.predictions.bias', 'cls.predictions.decoder.weight', 'cls.predictions.transform.dense.weight', 'cls.seq_relationship.weight', 'cls.predictions.transform.LayerNorm.bias']\n",
      "- This IS expected if you are initializing BertModel from the checkpoint of a model trained on another task or with another architecture (e.g. initializing a BertForSequenceClassification model from a BertForPreTraining model).\n",
      "- This IS NOT expected if you are initializing BertModel from the checkpoint of a model that you expect to be exactly identical (initializing a BertForSequenceClassification model from a BertForSequenceClassification model).\n"
     ]
    },
    {
     "name": "stdout",
     "output_type": "stream",
     "text": [
      "System level P score: 0.614\n",
      "System level R score: 0.576\n",
      "System level F1 score: 0.594\n"
     ]
    }
   ],
   "source": [
    "# data\n",
    "# cands = ['我们都曾经年轻过']\n",
    "# refs = ['虽然我们都年少，但还是懂事的']\n",
    "\n",
    "P, R, F1 = score(samples, labels, lang=\"zh\", verbose=False)\n",
    "print(f\"System level P score: {P.mean():.3f}\")\n",
    "print(f\"System level R score: {R.mean():.3f}\")\n",
    "print(f\"System level F1 score: {F1.mean():.3f}\") "
   ]
  },
  {
   "cell_type": "code",
   "execution_count": null,
   "id": "e0fff8e6",
   "metadata": {},
   "outputs": [],
   "source": []
  },
  {
   "cell_type": "code",
   "execution_count": null,
   "id": "a4416300",
   "metadata": {},
   "outputs": [],
   "source": []
  },
  {
   "cell_type": "code",
   "execution_count": null,
   "id": "1dba1b6a",
   "metadata": {},
   "outputs": [],
   "source": []
  },
  {
   "cell_type": "code",
   "execution_count": null,
   "id": "ed43bc40",
   "metadata": {},
   "outputs": [],
   "source": []
  },
  {
   "cell_type": "code",
   "execution_count": null,
   "id": "83d835bd",
   "metadata": {},
   "outputs": [],
   "source": []
  },
  {
   "cell_type": "code",
   "execution_count": null,
   "id": "55bb1d06",
   "metadata": {},
   "outputs": [],
   "source": []
  }
 ],
 "metadata": {
  "kernelspec": {
   "display_name": "Python 3",
   "language": "python",
   "name": "python3"
  },
  "language_info": {
   "codemirror_mode": {
    "name": "ipython",
    "version": 3
   },
   "file_extension": ".py",
   "mimetype": "text/x-python",
   "name": "python",
   "nbconvert_exporter": "python",
   "pygments_lexer": "ipython3",
   "version": "3.8.8"
  }
 },
 "nbformat": 4,
 "nbformat_minor": 5
}
