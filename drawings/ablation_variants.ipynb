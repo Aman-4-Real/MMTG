{
 "cells": [
  {
   "cell_type": "code",
   "execution_count": 62,
   "id": "8836fd1f",
   "metadata": {},
   "outputs": [
    {
     "data": {
      "image/png": "[encoded data removed]",
      "text/plain": [
       "<Figure size 432x288 with 5 Axes>"
      ]
     },
     "metadata": {},
     "output_type": "display_data"
    }
   ],
   "source": [
    "import pandas as pd\n",
    "import matplotlib.pyplot as plt\n",
    "from matplotlib.backends.backend_pdf import PdfPages\n",
    "import seaborn as sns\n",
    "import numpy as np\n",
    "plt.style.use('ggplot')\n",
    "import matplotlib\n",
    "import matplotlib.pyplot as plt\n",
    "from pylab import *  \n",
    "import pylab as pl\n",
    "matplotlib.rcParams['axes.unicode_minus']=False\n",
    "\n",
    "\n",
    "f, (ax1, ax2, ax3, ax4, ax5) = plt.subplots(1, 5, sharey=False)  # 绘制子图\n",
    "plt.subplots_adjust(wspace=0.2, hspace=0) # 设置 子图间距\n",
    "\n",
    "# labels = ['BLEU-1', 'BLEU-2', 'Distinct-1', 'Distinct-2', 'BERTScore']\n",
    "\n",
    "bleu2 = [0.027,0.026,0.026,0.021,0.026,0.026]\n",
    "distinct2 = [0.745,0.746,0.746,0.759,0.743,0.753]\n",
    "bertscore = [0.594,0.591,0.593,0.587,0.594,0.593]\n",
    "nnr1 = [0.315,0.113,0.156,0.274,0.283,0.263]\n",
    "nnr2 = [0.411,0.144,0.196,0.371,0.379,0.350]\n",
    "\n",
    "x = ['1','2','3','4','5','6']  # x轴刻度标签位置\n",
    "width = 1  # 柱子的宽度\n",
    "colors = [\"#227c9d\",'#17c3b2','#9ed8db','#a9def9','#17c37b','#00b4d8']\n",
    "# colors = [\"#00526f\",'#25b4e5','#023b7c','#0a2344','#29d8d4','#0088c6']\n",
    "labels = ['MMTG','sent.mul','w/o α att.','w/o t-prt.','w/o image','w/o text']\n",
    "# patterns = ('-', '+', 'x', '\\\\', '*', 'o', 'O', '.')\n",
    "\n",
    "\n",
    "ax1.bar(x, bleu2, width, alpha = 0.8, color=colors)\n",
    "ax1.set_ylim(0.015, 0.028)  # 设置纵坐标范围\n",
    "for X, Y in zip(x, bleu2):\n",
    "    ax1.text(X, Y+0.0003, '%.3f' % Y, fontsize = 7, ha = 'center', va = 'bottom', rotation=90)\n",
    "ax1.set_xticks([])\n",
    "ax1.set_yticks([0.018,0.021,0.024,0.027,0.030])\n",
    "ax1.tick_params(labelsize=9, rotation=90, pad=-2)\n",
    "ax1.set_xlabel('BLEU-2')\n",
    "\n",
    "ax2.bar(x, distinct2, width, alpha = 0.8, color=colors)\n",
    "ax2.set_ylim(0.700, 0.773)  # 设置纵坐标范围\n",
    "for X, Y in zip(x, distinct2):\n",
    "    ax2.text(X, Y+0.0015, '%.3f' % Y, fontsize = 7, ha = 'center', va = 'bottom', rotation=90)\n",
    "ax2.set_xticks([])\n",
    "ax2.set_yticks([0.715,0.730,0.745,0.760,0.775])\n",
    "ax2.tick_params(labelsize=9, rotation=90, pad=-2)\n",
    "ax2.set_xlabel('Distinct-2')\n",
    "\n",
    "ax3.bar(x, bertscore, width, alpha = 0.8, color=colors)\n",
    "ax3.set_ylim(0.570, 0.603)  # 设置纵坐标范围\n",
    "for X, Y in zip(x, bertscore):\n",
    "    ax3.text(X, Y+0.0007, '%.3f' % Y, fontsize = 7, ha = 'center', va = 'bottom', rotation=90)\n",
    "ax3.set_xticks([])\n",
    "ax3.set_yticks([0.577,0.584,0.591,0.598,0.605])\n",
    "ax3.tick_params(labelsize=9, rotation=90, pad=-2)\n",
    "ax3.set_xlabel('BERTScore')\n",
    "\n",
    "ax4.bar(x, nnr1, width, alpha = 0.8, label='w/o neg2', color=colors)\n",
    "ax4.set_ylim(0., 0.400)  # 设置纵坐标范围\n",
    "for X, Y in zip(x, nnr1):\n",
    "    ax4.text(X, Y+0.008, '%.3f' % Y, fontsize = 7, ha = 'center', va = 'bottom', rotation=90)\n",
    "ax4.set_xticks([])\n",
    "ax4.set_yticks([0.080,0.160,0.240,0.320,0.400])\n",
    "ax4.tick_params(labelsize=9, rotation=90, pad=-2)\n",
    "ax4.set_xlabel('NNR-1')\n",
    "\n",
    "for i in range(len(nnr2)):\n",
    "    ax5.bar(x[i], nnr2[i], width, alpha=0.8, label=labels[i], color=colors[i])\n",
    "ax5.set_ylim(0., 0.500)  # 设置纵坐标范围\n",
    "for X, Y in zip(x, nnr2):\n",
    "    ax5.text(X, Y+0.01, '%.3f' % Y, fontsize = 7, ha = 'center', va = 'bottom', rotation=90)\n",
    "ax5.set_xticks([])\n",
    "ax5.set_yticks([0.100,0.200,0.300,0.400,0.500])\n",
    "ax5.tick_params(labelsize=9, rotation=90, pad=-2)\n",
    "ax5.set_xlabel('NNR-2')\n",
    "\n",
    "\n",
    "\n",
    "# plt.xlabel('Metrics')\n",
    "ax1.set_ylabel('Values')\n",
    "# plt.title('Example2')\n",
    "# x轴刻度标签位置不进行计算\n",
    "# plt.xticks(x, labels = labels)\n",
    "plt.legend(loc='lower right', bbox_to_anchor=(0.45,1), ncol=3) #在右下角生成标签，还有center、upper，如果不设置，系统自动找到合适地方\n",
    "\n",
    "plt.plot()\n",
    "plt.savefig('ablation_variants.pdf', bbox_inches='tight')\n",
    "\n",
    "# pl.show()\n",
    "\n",
    "\n",
    "\n"
   ]
  },
  {
   "cell_type": "code",
   "execution_count": null,
   "id": "ae7bf722",
   "metadata": {},
   "outputs": [],
   "source": []
  },
  {
   "cell_type": "code",
   "execution_count": null,
   "id": "1054ca22",
   "metadata": {},
   "outputs": [],
   "source": []
  },
  {
   "cell_type": "code",
   "execution_count": null,
   "id": "eec2d5fc",
   "metadata": {},
   "outputs": [],
   "source": []
  },
  {
   "cell_type": "code",
   "execution_count": null,
   "id": "e80eabc8",
   "metadata": {},
   "outputs": [],
   "source": []
  },
  {
   "cell_type": "code",
   "execution_count": null,
   "id": "6dc4045a",
   "metadata": {},
   "outputs": [],
   "source": []
  },
  {
   "cell_type": "code",
   "execution_count": null,
   "id": "8fe5b32c",
   "metadata": {},
   "outputs": [],
   "source": []
  }
 ],
 "metadata": {
  "kernelspec": {
   "display_name": "Python 3",
   "language": "python",
   "name": "python3"
  },
  "language_info": {
   "codemirror_mode": {
    "name": "ipython",
    "version": 3
   },
   "file_extension": ".py",
   "mimetype": "text/x-python",
   "name": "python",
   "nbconvert_exporter": "python",
   "pygments_lexer": "ipython3",
   "version": "3.8.8"
  }
 },
 "nbformat": 4,
 "nbformat_minor": 5
}
